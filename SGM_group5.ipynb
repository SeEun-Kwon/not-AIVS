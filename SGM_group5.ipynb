{
  "nbformat": 4,
  "nbformat_minor": 0,
  "metadata": {
    "colab": {
      "provenance": [],
      "authorship_tag": "ABX9TyMSAEfrcEn05QQ5S/2r3NkP",
      "include_colab_link": true
    },
    "kernelspec": {
      "name": "python3",
      "display_name": "Python 3"
    },
    "language_info": {
      "name": "python"
    }
  },
  "cells": [
    {
      "cell_type": "markdown",
      "metadata": {
        "id": "view-in-github",
        "colab_type": "text"
      },
      "source": [
        "<a href=\"https://colab.research.google.com/github/SeEun-Kwon/not-AIVS/blob/main/SGM_group5.ipynb\" target=\"_parent\"><img src=\"https://colab.research.google.com/assets/colab-badge.svg\" alt=\"Open In Colab\"/></a>"
      ]
    },
    {
      "cell_type": "code",
      "execution_count": null,
      "metadata": {
        "id": "JqJMrazi1IAw"
      },
      "outputs": [],
      "source": [
        "import random\n",
        "\n",
        "def 가죽주머니():\n",
        "    random_int = random.randint(1, 20)\n",
        "    if random_int <= 15:#붉은 구슬, Y1\n",
        "        return 1\n",
        "    elif random_int <= 20:#파란 구슬, Y2\n",
        "        return 2\n",
        "    else:#노란 구슬, Y3\n",
        "        return 3\n",
        "\n",
        "def 천주머니():\n",
        "    random_int = random.randint(1, 20)\n",
        "    if random_int <= 15:#붉은 구슬, Y1\n",
        "        return 1\n",
        "    elif random_int <= 16:#파란 구슬, Y2\n",
        "        return 2\n",
        "    else:#노란 구슬, Y3\n",
        "        return 3\n",
        "\n",
        "count={'X1,Y1':0, 'X1,Y2':0, 'X1,Y3':0, 'X2,Y1':0, 'X2,Y2':0, 'X2,Y3':0} #dict\n",
        "\n",
        "times = int(input(\"실행 할 횟수를 입력하세요.\"))\n",
        "\n",
        "for i in range(times):\n",
        "    random_int = random.randint(1, 3)\n",
        "    X = 0\n",
        "    Y = 0\n",
        "    if random_int==1 or random_int==2:\n",
        "        X = 1 #가죽주머니, X1\n",
        "        Y = 가죽주머니()\n",
        "    else:\n",
        "        X = 2 #천주머니, X2\n",
        "        Y = 천주머니()\n",
        "    count[f'X{X},Y{Y}']+=1\n",
        "\n",
        "print()#줄바꿈\n",
        "\n",
        "for item in count:\n",
        "    percentage = (count[item] / times) * 100\n",
        "    print(f\"P({item}) = {percentage:.5f}%\")\n",
        "\n",
        "calc={'X1':count['X1,Y1']+count['X1,Y2']+count['X1,Y3']\n",
        "      , 'X2':count['X2,Y1']+count['X2,Y2']+count['X2,Y3']\n",
        "      , 'Y1':count['X1,Y1']+count['X2,Y1']\n",
        "      , 'Y2':count['X1,Y2']+count['X2,Y2']\n",
        "      , 'Y3':count['X1,Y3']+count['X2,Y3']}\n",
        "\n",
        "print()#줄바꿈\n",
        "\n",
        "for item in calc:\n",
        "    percentage = (calc[item] / times) * 100\n",
        "    print(f\"P({item}) = {percentage:.5f}%\")\n",
        "\n",
        "print()#줄바꿈\n",
        "\n",
        "print(f\"P(X1)+P(X2) = {(calc['X1']+calc['X2'])/times*100:.5f}%\")\n",
        "print(f\"P(Y1)+P(Y2)+P(Y3) = {(calc['Y1']+calc['Y2']+calc['Y3'])/times*100:.5f}%\")\n",
        "\n",
        "print('----------------')\n",
        "\n",
        "exprimental = {'X1|Y1':count['X1,Y1']/calc['Y1'], 'X2|Y1':count['X2,Y1']/calc['Y1']\n",
        "        , 'X1|Y2':count['X1,Y2']/calc['Y2'], 'X2|Y2':count['X2,Y2']/calc['Y2']\n",
        "        , 'X1|Y3':count['X1,Y3']/calc['Y3'], 'X2|Y3':count['X2,Y3']/calc['Y3']}\n",
        "\n",
        "actual = {'X1|Y1':2/3, 'X2|Y1':1/3\n",
        "        , 'X1|Y2':10/11, 'X2|Y2':1/11\n",
        "        , 'X1|Y3':0, 'X2|Y3':1}\n",
        "\n",
        "for item in exprimental:\n",
        "    print(f\"P_exp({item}) = {exprimental[item]*100:.5f}%\", end=' | ')\n",
        "    print(f\"P_act({item}) = {actual[item]*100:.5f}%\", end=' | ')\n",
        "    if actual[item]==0:\n",
        "        print(\"(acutal value is 0)\")\n",
        "    else:\n",
        "        print(f\"error = {abs(exprimental[item]-actual[item])/actual[item]*100:.5f}%\")"
      ]
    }
  ]
}